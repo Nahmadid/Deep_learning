{
  "nbformat": 4,
  "nbformat_minor": 0,
  "metadata": {
    "colab": {
      "provenance": [],
      "authorship_tag": "ABX9TyMXTr0L5CuWvLkMXtFAHMvP",
      "include_colab_link": true
    },
    "kernelspec": {
      "name": "python3",
      "display_name": "Python 3"
    },
    "language_info": {
      "name": "python"
    },
    "accelerator": "GPU",
    "gpuClass": "standard"
  },
  "cells": [
    {
      "cell_type": "markdown",
      "metadata": {
        "id": "view-in-github",
        "colab_type": "text"
      },
      "source": [
        "<a href=\"https://colab.research.google.com/github/Nahmadid/Deep_learning/blob/main/HW4_Q1.ipynb\" target=\"_parent\"><img src=\"https://colab.research.google.com/assets/colab-badge.svg\" alt=\"Open In Colab\"/></a>"
      ]
    },
    {
      "cell_type": "markdown",
      "source": [
        "\n",
        "#**Question 1**\n",
        "Using the auto-differentiation routine provided by any one of the frameworks (TensorFlow or PyTorch, or JAX), write codes for computing the derivative of the following Gaussian function in both frameworks:\n",
        "\n",
        "\\begin{equation}\n",
        "f(x) = \\frac{1}{\\sigma \\sqrt{2\\pi}} \\exp\\left(-\\frac{1}{2}\\left(\\frac{x - \\mu}{\\sigma}\\right)^2\\right), \\quad \\sigma^2 = 0.2, \\mu = 0, x \\in [-5, 5].\n",
        "\\end{equation}\n",
        "\n",
        "Using the time module provided by Python measure the run-times for the code at least 10 times to obtain a measure of unbiased performance. Try it for both CPU and GPU, and report the CPU and GPU you used (For example- CPU: Intel Core i9-10900X / GPU: GeForce RTX 3090 Ti). Plot the run-time against the number of runs and compute the mean and standard deviation of the measured run-times. (Note: Use the same hardware for all the following problems.)\n"
      ],
      "metadata": {
        "id": "lk-EufLPLK-o"
      }
    },
    {
      "cell_type": "code",
      "source": [
        "# !pip install --upgrade jax jaxlib\n",
        "# !nvidia-smi\n",
        "!cat /proc/cpuinfo"
      ],
      "metadata": {
        "id": "clZdlXz7AT5d",
        "colab": {
          "base_uri": "https://localhost:8080/"
        },
        "outputId": "58dadc66-84c9-4825-b179-590d52b3a699"
      },
      "execution_count": 36,
      "outputs": [
        {
          "output_type": "stream",
          "name": "stdout",
          "text": [
            "processor\t: 0\n",
            "vendor_id\t: GenuineIntel\n",
            "cpu family\t: 6\n",
            "model\t\t: 79\n",
            "model name\t: Intel(R) Xeon(R) CPU @ 2.20GHz\n",
            "stepping\t: 0\n",
            "microcode\t: 0xffffffff\n",
            "cpu MHz\t\t: 2199.998\n",
            "cache size\t: 56320 KB\n",
            "physical id\t: 0\n",
            "siblings\t: 2\n",
            "core id\t\t: 0\n",
            "cpu cores\t: 1\n",
            "apicid\t\t: 0\n",
            "initial apicid\t: 0\n",
            "fpu\t\t: yes\n",
            "fpu_exception\t: yes\n",
            "cpuid level\t: 13\n",
            "wp\t\t: yes\n",
            "flags\t\t: fpu vme de pse tsc msr pae mce cx8 apic sep mtrr pge mca cmov pat pse36 clflush mmx fxsr sse sse2 ss ht syscall nx pdpe1gb rdtscp lm constant_tsc rep_good nopl xtopology nonstop_tsc cpuid tsc_known_freq pni pclmulqdq ssse3 fma cx16 pcid sse4_1 sse4_2 x2apic movbe popcnt aes xsave avx f16c rdrand hypervisor lahf_lm abm 3dnowprefetch invpcid_single ssbd ibrs ibpb stibp fsgsbase tsc_adjust bmi1 hle avx2 smep bmi2 erms invpcid rtm rdseed adx smap xsaveopt arat md_clear arch_capabilities\n",
            "bugs\t\t: cpu_meltdown spectre_v1 spectre_v2 spec_store_bypass l1tf mds swapgs taa mmio_stale_data retbleed\n",
            "bogomips\t: 4399.99\n",
            "clflush size\t: 64\n",
            "cache_alignment\t: 64\n",
            "address sizes\t: 46 bits physical, 48 bits virtual\n",
            "power management:\n",
            "\n",
            "processor\t: 1\n",
            "vendor_id\t: GenuineIntel\n",
            "cpu family\t: 6\n",
            "model\t\t: 79\n",
            "model name\t: Intel(R) Xeon(R) CPU @ 2.20GHz\n",
            "stepping\t: 0\n",
            "microcode\t: 0xffffffff\n",
            "cpu MHz\t\t: 2199.998\n",
            "cache size\t: 56320 KB\n",
            "physical id\t: 0\n",
            "siblings\t: 2\n",
            "core id\t\t: 0\n",
            "cpu cores\t: 1\n",
            "apicid\t\t: 1\n",
            "initial apicid\t: 1\n",
            "fpu\t\t: yes\n",
            "fpu_exception\t: yes\n",
            "cpuid level\t: 13\n",
            "wp\t\t: yes\n",
            "flags\t\t: fpu vme de pse tsc msr pae mce cx8 apic sep mtrr pge mca cmov pat pse36 clflush mmx fxsr sse sse2 ss ht syscall nx pdpe1gb rdtscp lm constant_tsc rep_good nopl xtopology nonstop_tsc cpuid tsc_known_freq pni pclmulqdq ssse3 fma cx16 pcid sse4_1 sse4_2 x2apic movbe popcnt aes xsave avx f16c rdrand hypervisor lahf_lm abm 3dnowprefetch invpcid_single ssbd ibrs ibpb stibp fsgsbase tsc_adjust bmi1 hle avx2 smep bmi2 erms invpcid rtm rdseed adx smap xsaveopt arat md_clear arch_capabilities\n",
            "bugs\t\t: cpu_meltdown spectre_v1 spectre_v2 spec_store_bypass l1tf mds swapgs taa mmio_stale_data retbleed\n",
            "bogomips\t: 4399.99\n",
            "clflush size\t: 64\n",
            "cache_alignment\t: 64\n",
            "address sizes\t: 46 bits physical, 48 bits virtual\n",
            "power management:\n",
            "\n"
          ]
        }
      ]
    },
    {
      "cell_type": "markdown",
      "source": [
        "\n",
        "#**Type of Processor:CPU**\n",
        "\n",
        "Processor: Intel(R) Xeon(R) CPU @ 2.20GHz"
      ],
      "metadata": {
        "id": "H1mrh0nrEFDF"
      }
    },
    {
      "cell_type": "code",
      "source": [
        "import jax.numpy as jnp\n",
        "from jax import grad, jit, vmap\n",
        "from timeit import default_timer as timer\n",
        "import time\n",
        "import matplotlib.pyplot as plt\n",
        "\n",
        "\n",
        "    \n",
        "def gaussian(x, mu, sigma):\n",
        "    return jnp.exp(-(x - mu)**2 / (2 * sigma**2)) / jnp.sqrt(2 * jnp.pi * sigma**2)\n",
        "\n",
        "def d2f(x, mu, sigma):\n",
        "    f = lambda x: gaussian(x, mu, sigma)\n",
        "    df = grad(f)\n",
        "    d2f = grad(df)\n",
        "    return vmap(d2f)(x)\n",
        "\n",
        "# Define parameters of Gaussian function\n",
        "mu = 0\n",
        "sigma = jnp.sqrt(0.2)\n",
        "\n",
        "# Generate 10000 uniformly-spaced points in [-5, 5]\n",
        "x = jnp.linspace(-5, 5, 20)\n",
        "\n",
        "\n",
        "num_runs = 20\n",
        "y_vals = []\n",
        "for i in range(num_runs):\n",
        "    start_time = time.time()\n",
        "    y = d2f(x,mu,sigma)\n",
        "    end_time = time.time()\n",
        "    y_vals.append(end_time - start_time)\n",
        "\n",
        "mean_time = jnp.mean(jnp.array(y_vals))\n",
        "std_dev = jnp.std(jnp.array(y_vals))\n",
        "\n",
        "print(std_dev)\n",
        "print(mean_time)\n",
        "\n",
        "plt.errorbar(range(num_runs), y_vals, fmt='o', markersize=5)\n",
        "plt.xlabel(\"Number of runs\")\n",
        "plt.ylabel(\"Run-time (seconds)\")\n",
        "plt.title(\"Run-time vs. number of runs\")\n",
        "plt.show()"
      ],
      "metadata": {
        "colab": {
          "base_uri": "https://localhost:8080/",
          "height": 331
        },
        "id": "fcRCx5yk-YNF",
        "outputId": "fe9a063c-2d90-4064-ca84-f86535f9e3f1"
      },
      "execution_count": 35,
      "outputs": [
        {
          "output_type": "stream",
          "name": "stdout",
          "text": [
            "0.021178009\n",
            "0.029860497\n"
          ]
        },
        {
          "output_type": "display_data",
          "data": {
            "text/plain": [
              "<Figure size 432x288 with 1 Axes>"
            ],
            "image/png": "[encoded data removed]"
          },
          "metadata": {
            "needs_background": "light"
          }
        }
      ]
    },
    {
      "cell_type": "markdown",
      "source": [
        "____________________________\n",
        "\n",
        "#**GPU or CPU?**\n",
        "Whether the GPU runs this code faster than the CPU depends on the availability of a GPU and the size of the input data.\n",
        "\n",
        "JAX has the ability to compile functions using a just-in-time (JIT) compiler, which can significantly speed up calculations. In this code, the jit decorator is used to compile the d2f function. JIT compilation is usually faster on the GPU than on the CPU because GPUs are optimized for parallel computations, and the JAX library is specifically designed to take advantage of GPU hardware.\n",
        "\n",
        "If you have access to a GPU and you're running this code on a large dataset, you will likely see a significant speedup compared to running it on a CPU. However, if the input data is small, the overhead of transferring data to the GPU may outweigh the benefits of using the GPU, and you may not see a significant speedup.\n",
        "\n",
        "To check if a GPU is available in your Colab environment, you can run the following code:\n",
        "\n",
        "\n",
        "\n",
        "> import jax\n",
        "\n",
        "> jax.device_count()\n",
        "\n",
        "\n",
        "This will return the number of available accelerator devices (CPU and/or GPU). If you have at least one GPU available, JAX will automatically use it for computations by default."
      ],
      "metadata": {
        "id": "ruMR_YjoCRQf"
      }
    },
    {
      "cell_type": "code",
      "source": [
        "import jax\n",
        "jax.device_count()"
      ],
      "metadata": {
        "colab": {
          "base_uri": "https://localhost:8080/"
        },
        "id": "_3tOz2xgCIU5",
        "outputId": "91fb4175-eb41-439c-f66e-553310c4e8f6"
      },
      "execution_count": 8,
      "outputs": [
        {
          "output_type": "execute_result",
          "data": {
            "text/plain": [
              "1"
            ]
          },
          "metadata": {},
          "execution_count": 8
        }
      ]
    },
    {
      "cell_type": "code",
      "source": [
        "!nvidia-smi"
      ],
      "metadata": {
        "colab": {
          "base_uri": "https://localhost:8080/"
        },
        "id": "JK3qvkmMAirE",
        "outputId": "324e80e9-b9d9-4f65-bda9-52d29bfb9795"
      },
      "execution_count": 4,
      "outputs": [
        {
          "output_type": "stream",
          "name": "stdout",
          "text": [
            "Mon Mar 13 17:27:07 2023       \n",
            "+-----------------------------------------------------------------------------+\n",
            "| NVIDIA-SMI 525.85.12    Driver Version: 525.85.12    CUDA Version: 12.0     |\n",
            "|-------------------------------+----------------------+----------------------+\n",
            "| GPU  Name        Persistence-M| Bus-Id        Disp.A | Volatile Uncorr. ECC |\n",
            "| Fan  Temp  Perf  Pwr:Usage/Cap|         Memory-Usage | GPU-Util  Compute M. |\n",
            "|                               |                      |               MIG M. |\n",
            "|===============================+======================+======================|\n",
            "|   0  Tesla T4            Off  | 00000000:00:04.0 Off |                    0 |\n",
            "| N/A   60C    P0    30W /  70W |    105MiB / 15360MiB |      0%      Default |\n",
            "|                               |                      |                  N/A |\n",
            "+-------------------------------+----------------------+----------------------+\n",
            "                                                                               \n",
            "+-----------------------------------------------------------------------------+\n",
            "| Processes:                                                                  |\n",
            "|  GPU   GI   CI        PID   Type   Process name                  GPU Memory |\n",
            "|        ID   ID                                                   Usage      |\n",
            "|=============================================================================|\n",
            "+-----------------------------------------------------------------------------+\n"
          ]
        }
      ]
    },
    {
      "cell_type": "markdown",
      "source": [
        "\n",
        "#**Type of Processor:GPU**\n",
        "\n",
        "GPU Name: Tesla T4\n",
        "Driver Version: 525.85.12\n",
        "CUDA Version: 12.0\n",
        "Memory: 15360 MiB\n",
        "\n",
        ".\n",
        "\n",
        ".\n",
        "\n",
        "."
      ],
      "metadata": {
        "id": "uYsS_ggXEyqV"
      }
    },
    {
      "cell_type": "code",
      "source": [
        "import jax.numpy as jnp\n",
        "from jax import grad, jit, vmap\n",
        "from timeit import default_timer as timer\n",
        "import time\n",
        "import matplotlib.pyplot as plt\n",
        "\n",
        "\n",
        "    \n",
        "def gaussian(x, mu, sigma):\n",
        "    return jnp.exp(-(x - mu)**2 / (2 * sigma**2)) / jnp.sqrt(2 * jnp.pi * sigma**2)\n",
        "\n",
        "def d2f(x, mu, sigma):\n",
        "    f = lambda x: gaussian(x, mu, sigma)\n",
        "    df = grad(f)\n",
        "    d2f = grad(df)\n",
        "    return vmap(d2f)(x)\n",
        "\n",
        "# Define parameters of Gaussian function\n",
        "mu = 0\n",
        "sigma = jnp.sqrt(0.2)\n",
        "\n",
        "# Generate 10000 uniformly-spaced points in [-5, 5]\n",
        "x = jnp.linspace(-5, 5, 20)\n",
        "\n",
        "\n",
        "num_runs = 20\n",
        "y_vals = []\n",
        "for i in range(num_runs):\n",
        "    start_time = time.time()\n",
        "    y = d2f(x,mu,sigma)\n",
        "    end_time = time.time()\n",
        "    y_vals.append(end_time - start_time)\n",
        "\n",
        "mean_time = jnp.mean(jnp.array(y_vals))\n",
        "std_dev = jnp.std(jnp.array(y_vals))\n",
        "\n",
        "print(f\"the std_dev is: {std_dev}\")\n",
        "print(f\"the mean is: {mean_time}\")\n",
        "\n",
        "plt.errorbar(range(num_runs), y_vals, fmt='o', markersize=5)\n",
        "plt.xlabel(\"Number of runs\")\n",
        "plt.ylabel(\"Run-time (seconds)\")\n",
        "plt.title(\"Run-time vs. number of runs\")\n",
        "plt.show()"
      ],
      "metadata": {
        "colab": {
          "base_uri": "https://localhost:8080/",
          "height": 331
        },
        "id": "aE260HiUAw44",
        "outputId": "228fc9f3-beb2-45b3-b1e9-4d35e5f37297"
      },
      "execution_count": 7,
      "outputs": [
        {
          "output_type": "stream",
          "name": "stdout",
          "text": [
            "the std_dev is: 0.2826058566570282\n",
            "the mean is: 0.09660768508911133\n"
          ]
        },
        {
          "output_type": "display_data",
          "data": {
            "text/plain": [
              "<Figure size 432x288 with 1 Axes>"
            ],
            "image/png": "[encoded data removed]"
          },
          "metadata": {
            "needs_background": "light"
          }
        }
      ]
    }
  ]
}