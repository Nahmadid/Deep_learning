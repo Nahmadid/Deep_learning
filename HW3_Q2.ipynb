{
  "nbformat": 4,
  "nbformat_minor": 0,
  "metadata": {
    "colab": {
      "provenance": [],
      "authorship_tag": "ABX9TyPB4TyO8QNt3BEttMavyYiT",
      "include_colab_link": true
    },
    "kernelspec": {
      "name": "python3",
      "display_name": "Python 3"
    },
    "language_info": {
      "name": "python"
    }
  },
  "cells": [
    {
      "cell_type": "markdown",
      "metadata": {
        "id": "view-in-github",
        "colab_type": "text"
      },
      "source": [
        "<a href=\"https://colab.research.google.com/github/Nahmadid/Deep_learning/blob/main/HW3_Q2.ipynb\" target=\"_parent\"><img src=\"https://colab.research.google.com/assets/colab-badge.svg\" alt=\"Open In Colab\"/></a>"
      ]
    },
    {
      "cell_type": "markdown",
      "source": [
        "#**Laplacian Operator in 3D**\n",
        "\n",
        "\n",
        "\n",
        "The Laplacian operator is a differential operator that appears frequently in mathematical physics and engineering. It is a scalar quantity that describes the divergence of the gradient of a function. In three dimensions, the Laplacian of a function $f(x,y,z)$ is defined as follows:\n",
        "\n",
        "$$\\nabla^2 f(x,y,z) = \\frac{\\partial^2 f}{\\partial x^2} + \\frac{\\partial^2 f}{\\partial y^2} + \\frac{\\partial^2 f}{\\partial z^2}$$\n",
        "\n",
        "Here, $\\nabla^2$ represents the Laplacian operator, which is also sometimes written as $\\Delta$. The operator acts on the function $f(x,y,z)$ and returns a scalar value. The operator is composed of three second-order partial derivatives, each with respect to one of the three spatial dimensions: $x$, $y$, and $z$.\n",
        "\n",
        "The Laplacian operator can be used to describe a variety of physical phenomena, including heat transfer, fluid flow, and wave propagation. It is also commonly used in image processing and computer vision applications, where it can be used to enhance edges and features in images.\n",
        "\n",
        "I put a test Function to make sure the code works well.\n",
        "\n",
        "Here is the computation of the Laplacian of the function\n",
        "$$f(x,y,z) = 3x^2 + y^2 + z$$\n",
        "\n",
        "We first find the second partial derivatives with respect to x, y, and z:\n",
        "\n",
        "\\begin{align*}\n",
        "\\frac{\\partial^2 f}{\\partial x^2} &= 6\\end{align*}\n",
        "\\begin{align*}\n",
        "\\frac{\\partial^2 f}{\\partial y^2} &= 2 \\end{align*}\n",
        "\\begin{align*}\n",
        "\\frac{\\partial^2 f}{\\partial z^2} &= 0 \\end{align*}\n",
        "\n",
        "\n",
        "Next, we add up the second partial derivatives:\n",
        "\n",
        "\\begin{align*}\n",
        "\\Delta f &= \\frac{\\partial^2 f}{\\partial x^2} + \\frac{\\partial^2 f}{\\partial y^2} + \\frac{\\partial^2 f}{\\partial z^2}\n",
        "= 6 + 2 + 0 \\\n",
        "= 8\n",
        "\\end{align*}\n",
        "\n",
        "Therefore, the Laplacian of the function $f(x,y,z) = 3x^2 + y^2 + z = 8$.\n"
      ],
      "metadata": {
        "id": "ULz14ilzgD1p"
      }
    },
    {
      "cell_type": "code",
      "source": [
        "import jax.numpy as jnp\n",
        "from jax import grad\n",
        "\n",
        "def laplacian_3D(f, x, y, z):\n",
        "    # Compute second partial derivatives\n",
        "    dxx = grad(grad(f, argnums=0), argnums=0)(x, y, z)\n",
        "    dyy = grad(grad(f, argnums=1), argnums=1)(x, y, z)\n",
        "    dzz = grad(grad(f, argnums=2), argnums=2)(x, y, z)\n",
        "    # Compute Laplacian\n",
        "    lap = dxx + dyy + dzz\n",
        "    return lap\n",
        "\n",
        "# Define the function f(x, y, z)\n",
        "def f_test(x, y, z):\n",
        "    return 3*x**2+y**2+z\n",
        "\n",
        "def f_a(x, y, z):\n",
        "    return jnp.sqrt(x * y) + z\n",
        "\n",
        "def f_b(x, y, z):\n",
        "    return jnp.sqrt(3*x**2 + y**2 + 5*z**2)\n",
        "\n",
        "def f_c(x, y, z):\n",
        "    return x**7 * y**5\n",
        "\n",
        "def f_d(x, y, z):\n",
        "    return 1/jnp.sqrt(x**2 + y**2 + z**2) \n",
        "\n",
        "\n",
        "# Evaluate Laplacian at a point\n",
        "x_value = 1.0\n",
        "y_value = 2.0\n",
        "z_value = 3.0\n",
        "\n",
        "laplacian_value_ftest = laplacian_3D(f_test, x_value, y_value, z_value)\n",
        "print(f'Laplacian F_TEST : {laplacian_value_ftest}')\n",
        "\n",
        "laplacian_value_fa = laplacian_3D(f_a, x_value, y_value, z_value)\n",
        "print(f'Laplacian F_a: {laplacian_value_fa}')\n",
        "\n",
        "laplacian_value_fb = laplacian_3D(f_b, x_value, y_value, z_value)\n",
        "print(f'Laplacian F_b: {laplacian_value_fb}')\n",
        "\n",
        "laplacian_value_fc = laplacian_3D(f_c, x_value, y_value, z_value)\n",
        "print(f'Laplacian F_c: {laplacian_value_fc}')\n",
        "\n",
        "laplacian_value_fd = laplacian_3D(f_d, x_value, y_value, z_value)\n",
        "print(f'Laplacian F_d: {laplacian_value_fd}')\n",
        "\n"
      ],
      "metadata": {
        "colab": {
          "base_uri": "https://localhost:8080/"
        },
        "id": "8ZzLbEUIYwhz",
        "outputId": "615b3b02-0736-4d7b-9dc6-99a62756368f"
      },
      "execution_count": 3,
      "outputs": [
        {
          "output_type": "stream",
          "name": "stdout",
          "text": [
            "Laplacian F_TEST: 8.0\n",
            "Laplacian F_a: -0.4419417679309845\n",
            "Laplacian F_b: 0.613370418548584\n",
            "Laplacian F_c: 1504.0\n",
            "Laplacian F_d: -5.587935447692871e-09\n"
          ]
        }
      ]
    }
  ]
}
